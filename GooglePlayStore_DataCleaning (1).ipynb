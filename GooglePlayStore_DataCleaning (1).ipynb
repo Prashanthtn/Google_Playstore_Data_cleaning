{
 "cells": [
  {
   "cell_type": "markdown",
   "id": "2def7047-4909-4b52-bf84-531df95b41e3",
   "metadata": {},
   "source": [
    "# Google PLAY STORE ANALYSIS AND VISUALIZATION\n",
    "About the project:\n",
    "\n",
    "    In this project, I'd be will be working on a real-world dataset of the google play store, one of the most used applications for downloading android apps. This project aims on cleaning the dataset, analyze the given dataset. This project also involves visualizing the data to better and easily understand trends and different categories.\n",
    "\n",
    "\n",
    "Problem Statement:\n",
    "\n",
    "    The team at Google Play Store wants to develop a feature that would enable them to boost visibility for the most promising apps. Now, this analysis would require a preliminary understanding of the features that define a well-performing app. You can ask questions like:\n",
    "\n",
    "* Does a higher size or price necessarily mean that an app would perform better than the other apps?\n",
    "* Or does a higher number of installs give a clear picture of which app would have a better rating than others?"
   ]
  },
  {
   "cell_type": "code",
   "execution_count": 3,
   "id": "869b8ef6-2cd0-46e9-af37-b87e5df78bca",
   "metadata": {},
   "outputs": [],
   "source": [
    "import pandas as pd\n",
    "import numpy as np\n",
    "import warnings\n",
    "warnings.filterwarnings('ignore')\n",
    "filename='.\\Google_Playstore_Raw.csv'\n",
    "file_read=pd.read_csv(filename)\n",
    "file_data_frame=pd.DataFrame(file_read)"
   ]
  },
  {
   "cell_type": "code",
   "execution_count": 4,
   "id": "675d8284-5de5-478b-80be-0d93e1052b2d",
   "metadata": {},
   "outputs": [
    {
     "data": {
      "text/html": [
       "<div>\n",
       "<style scoped>\n",
       "    .dataframe tbody tr th:only-of-type {\n",
       "        vertical-align: middle;\n",
       "    }\n",
       "\n",
       "    .dataframe tbody tr th {\n",
       "        vertical-align: top;\n",
       "    }\n",
       "\n",
       "    .dataframe thead th {\n",
       "        text-align: right;\n",
       "    }\n",
       "</style>\n",
       "<table border=\"1\" class=\"dataframe\">\n",
       "  <thead>\n",
       "    <tr style=\"text-align: right;\">\n",
       "      <th></th>\n",
       "      <th>App</th>\n",
       "      <th>Category</th>\n",
       "      <th>Rating</th>\n",
       "      <th>Reviews</th>\n",
       "      <th>Size</th>\n",
       "      <th>Installs</th>\n",
       "      <th>Type</th>\n",
       "      <th>Price</th>\n",
       "      <th>Content Rating</th>\n",
       "      <th>Genres</th>\n",
       "      <th>Last Updated</th>\n",
       "      <th>Current Ver</th>\n",
       "      <th>Android Ver</th>\n",
       "    </tr>\n",
       "  </thead>\n",
       "  <tbody>\n",
       "    <tr>\n",
       "      <th>0</th>\n",
       "      <td>Photo Editor &amp; Candy Camera &amp; Grid &amp; ScrapBook</td>\n",
       "      <td>ART_AND_DESIGN</td>\n",
       "      <td>4.1</td>\n",
       "      <td>159</td>\n",
       "      <td>19000.00000</td>\n",
       "      <td>10,000+</td>\n",
       "      <td>Free</td>\n",
       "      <td>0</td>\n",
       "      <td>Everyone</td>\n",
       "      <td>Art &amp; Design</td>\n",
       "      <td>7-Jan-18</td>\n",
       "      <td>1.0.0</td>\n",
       "      <td>4.0.3 and up</td>\n",
       "    </tr>\n",
       "    <tr>\n",
       "      <th>1</th>\n",
       "      <td>Coloring book moana</td>\n",
       "      <td>ART_AND_DESIGN</td>\n",
       "      <td>3.9</td>\n",
       "      <td>967</td>\n",
       "      <td>14000.00000</td>\n",
       "      <td>500,000+</td>\n",
       "      <td>Free</td>\n",
       "      <td>0</td>\n",
       "      <td>Everyone</td>\n",
       "      <td>Art &amp; Design;Pretend Play</td>\n",
       "      <td>15-Jan-18</td>\n",
       "      <td>2.0.0</td>\n",
       "      <td>4.0.3 and up</td>\n",
       "    </tr>\n",
       "    <tr>\n",
       "      <th>2</th>\n",
       "      <td>U Launcher Lite – FREE Live Cool Themes, Hide ...</td>\n",
       "      <td>ART_AND_DESIGN</td>\n",
       "      <td>4.7</td>\n",
       "      <td>87510</td>\n",
       "      <td>8700.00000</td>\n",
       "      <td>5,000,000+</td>\n",
       "      <td>Free</td>\n",
       "      <td>0</td>\n",
       "      <td>Everyone</td>\n",
       "      <td>Art &amp; Design</td>\n",
       "      <td>1-Aug-18</td>\n",
       "      <td>1.2.4</td>\n",
       "      <td>4.0.3 and up</td>\n",
       "    </tr>\n",
       "    <tr>\n",
       "      <th>3</th>\n",
       "      <td>Sketch - Draw &amp; Paint</td>\n",
       "      <td>ART_AND_DESIGN</td>\n",
       "      <td>4.5</td>\n",
       "      <td>215644</td>\n",
       "      <td>25000.00000</td>\n",
       "      <td>50,000,000+</td>\n",
       "      <td>Free</td>\n",
       "      <td>0</td>\n",
       "      <td>Teen</td>\n",
       "      <td>Art &amp; Design</td>\n",
       "      <td>8-Jun-18</td>\n",
       "      <td>Varies with device</td>\n",
       "      <td>4.2 and up</td>\n",
       "    </tr>\n",
       "    <tr>\n",
       "      <th>4</th>\n",
       "      <td>Pixel Draw - Number Art Coloring Book</td>\n",
       "      <td>ART_AND_DESIGN</td>\n",
       "      <td>4.3</td>\n",
       "      <td>967</td>\n",
       "      <td>2800.00000</td>\n",
       "      <td>100,000+</td>\n",
       "      <td>Free</td>\n",
       "      <td>0</td>\n",
       "      <td>Everyone</td>\n",
       "      <td>Art &amp; Design;Creativity</td>\n",
       "      <td>20-Jun-18</td>\n",
       "      <td>1.1</td>\n",
       "      <td>4.4 and up</td>\n",
       "    </tr>\n",
       "    <tr>\n",
       "      <th>...</th>\n",
       "      <td>...</td>\n",
       "      <td>...</td>\n",
       "      <td>...</td>\n",
       "      <td>...</td>\n",
       "      <td>...</td>\n",
       "      <td>...</td>\n",
       "      <td>...</td>\n",
       "      <td>...</td>\n",
       "      <td>...</td>\n",
       "      <td>...</td>\n",
       "      <td>...</td>\n",
       "      <td>...</td>\n",
       "      <td>...</td>\n",
       "    </tr>\n",
       "    <tr>\n",
       "      <th>10836</th>\n",
       "      <td>Sya9a Maroc - FR</td>\n",
       "      <td>FAMILY</td>\n",
       "      <td>4.5</td>\n",
       "      <td>38</td>\n",
       "      <td>53000.00000</td>\n",
       "      <td>5,000+</td>\n",
       "      <td>Free</td>\n",
       "      <td>0</td>\n",
       "      <td>Everyone</td>\n",
       "      <td>Education</td>\n",
       "      <td>25-Jul-17</td>\n",
       "      <td>1.48</td>\n",
       "      <td>4.1 and up</td>\n",
       "    </tr>\n",
       "    <tr>\n",
       "      <th>10837</th>\n",
       "      <td>Fr. Mike Schmitz Audio Teachings</td>\n",
       "      <td>FAMILY</td>\n",
       "      <td>5.0</td>\n",
       "      <td>4</td>\n",
       "      <td>3600.00000</td>\n",
       "      <td>100+</td>\n",
       "      <td>Free</td>\n",
       "      <td>0</td>\n",
       "      <td>Everyone</td>\n",
       "      <td>Education</td>\n",
       "      <td>6-Jul-18</td>\n",
       "      <td>1</td>\n",
       "      <td>4.1 and up</td>\n",
       "    </tr>\n",
       "    <tr>\n",
       "      <th>10838</th>\n",
       "      <td>Parkinson Exercices FR</td>\n",
       "      <td>MEDICAL</td>\n",
       "      <td>NaN</td>\n",
       "      <td>3</td>\n",
       "      <td>9500.00000</td>\n",
       "      <td>1,000+</td>\n",
       "      <td>Free</td>\n",
       "      <td>0</td>\n",
       "      <td>Everyone</td>\n",
       "      <td>Medical</td>\n",
       "      <td>20-Jan-17</td>\n",
       "      <td>1</td>\n",
       "      <td>2.2 and up</td>\n",
       "    </tr>\n",
       "    <tr>\n",
       "      <th>10839</th>\n",
       "      <td>The SCP Foundation DB fr nn5n</td>\n",
       "      <td>BOOKS_AND_REFERENCE</td>\n",
       "      <td>4.5</td>\n",
       "      <td>114</td>\n",
       "      <td>21516.52952</td>\n",
       "      <td>1,000+</td>\n",
       "      <td>Free</td>\n",
       "      <td>0</td>\n",
       "      <td>Mature 17+</td>\n",
       "      <td>Books &amp; Reference</td>\n",
       "      <td>19-Jan-15</td>\n",
       "      <td>Varies with device</td>\n",
       "      <td>Varies with device</td>\n",
       "    </tr>\n",
       "    <tr>\n",
       "      <th>10840</th>\n",
       "      <td>iHoroscope - 2018 Daily Horoscope &amp; Astrology</td>\n",
       "      <td>LIFESTYLE</td>\n",
       "      <td>4.5</td>\n",
       "      <td>398307</td>\n",
       "      <td>19000.00000</td>\n",
       "      <td>10,000,000+</td>\n",
       "      <td>Free</td>\n",
       "      <td>0</td>\n",
       "      <td>Everyone</td>\n",
       "      <td>Lifestyle</td>\n",
       "      <td>25-Jul-18</td>\n",
       "      <td>Varies with device</td>\n",
       "      <td>Varies with device</td>\n",
       "    </tr>\n",
       "  </tbody>\n",
       "</table>\n",
       "<p>10841 rows × 13 columns</p>\n",
       "</div>"
      ],
      "text/plain": [
       "                                                     App             Category  \\\n",
       "0         Photo Editor & Candy Camera & Grid & ScrapBook       ART_AND_DESIGN   \n",
       "1                                    Coloring book moana       ART_AND_DESIGN   \n",
       "2      U Launcher Lite – FREE Live Cool Themes, Hide ...       ART_AND_DESIGN   \n",
       "3                                  Sketch - Draw & Paint       ART_AND_DESIGN   \n",
       "4                  Pixel Draw - Number Art Coloring Book       ART_AND_DESIGN   \n",
       "...                                                  ...                  ...   \n",
       "10836                                   Sya9a Maroc - FR               FAMILY   \n",
       "10837                   Fr. Mike Schmitz Audio Teachings               FAMILY   \n",
       "10838                             Parkinson Exercices FR              MEDICAL   \n",
       "10839                      The SCP Foundation DB fr nn5n  BOOKS_AND_REFERENCE   \n",
       "10840      iHoroscope - 2018 Daily Horoscope & Astrology            LIFESTYLE   \n",
       "\n",
       "       Rating Reviews         Size     Installs  Type Price Content Rating  \\\n",
       "0         4.1     159  19000.00000      10,000+  Free     0       Everyone   \n",
       "1         3.9     967  14000.00000     500,000+  Free     0       Everyone   \n",
       "2         4.7   87510   8700.00000   5,000,000+  Free     0       Everyone   \n",
       "3         4.5  215644  25000.00000  50,000,000+  Free     0           Teen   \n",
       "4         4.3     967   2800.00000     100,000+  Free     0       Everyone   \n",
       "...       ...     ...          ...          ...   ...   ...            ...   \n",
       "10836     4.5      38  53000.00000       5,000+  Free     0       Everyone   \n",
       "10837     5.0       4   3600.00000         100+  Free     0       Everyone   \n",
       "10838     NaN       3   9500.00000       1,000+  Free     0       Everyone   \n",
       "10839     4.5     114  21516.52952       1,000+  Free     0     Mature 17+   \n",
       "10840     4.5  398307  19000.00000  10,000,000+  Free     0       Everyone   \n",
       "\n",
       "                          Genres Last Updated         Current Ver  \\\n",
       "0                   Art & Design     7-Jan-18               1.0.0   \n",
       "1      Art & Design;Pretend Play    15-Jan-18               2.0.0   \n",
       "2                   Art & Design     1-Aug-18               1.2.4   \n",
       "3                   Art & Design     8-Jun-18  Varies with device   \n",
       "4        Art & Design;Creativity    20-Jun-18                 1.1   \n",
       "...                          ...          ...                 ...   \n",
       "10836                  Education    25-Jul-17                1.48   \n",
       "10837                  Education     6-Jul-18                   1   \n",
       "10838                    Medical    20-Jan-17                   1   \n",
       "10839          Books & Reference    19-Jan-15  Varies with device   \n",
       "10840                  Lifestyle    25-Jul-18  Varies with device   \n",
       "\n",
       "              Android Ver  \n",
       "0            4.0.3 and up  \n",
       "1            4.0.3 and up  \n",
       "2            4.0.3 and up  \n",
       "3              4.2 and up  \n",
       "4              4.4 and up  \n",
       "...                   ...  \n",
       "10836          4.1 and up  \n",
       "10837          4.1 and up  \n",
       "10838          2.2 and up  \n",
       "10839  Varies with device  \n",
       "10840  Varies with device  \n",
       "\n",
       "[10841 rows x 13 columns]"
      ]
     },
     "execution_count": 4,
     "metadata": {},
     "output_type": "execute_result"
    }
   ],
   "source": [
    "file_data_frame"
   ]
  },
  {
   "cell_type": "code",
   "execution_count": 5,
   "id": "2bb084ef-079c-4cd5-8031-745983ca9185",
   "metadata": {},
   "outputs": [
    {
     "data": {
      "text/plain": [
       "(10841, 13)"
      ]
     },
     "execution_count": 5,
     "metadata": {},
     "output_type": "execute_result"
    }
   ],
   "source": [
    "file_data_frame.shape"
   ]
  },
  {
   "cell_type": "code",
   "execution_count": 6,
   "id": "a18e127f-2783-47bd-a0a6-d21759a28683",
   "metadata": {},
   "outputs": [
    {
     "data": {
      "text/html": [
       "<div>\n",
       "<style scoped>\n",
       "    .dataframe tbody tr th:only-of-type {\n",
       "        vertical-align: middle;\n",
       "    }\n",
       "\n",
       "    .dataframe tbody tr th {\n",
       "        vertical-align: top;\n",
       "    }\n",
       "\n",
       "    .dataframe thead th {\n",
       "        text-align: right;\n",
       "    }\n",
       "</style>\n",
       "<table border=\"1\" class=\"dataframe\">\n",
       "  <thead>\n",
       "    <tr style=\"text-align: right;\">\n",
       "      <th></th>\n",
       "      <th>Rating</th>\n",
       "      <th>Size</th>\n",
       "    </tr>\n",
       "  </thead>\n",
       "  <tbody>\n",
       "    <tr>\n",
       "      <th>count</th>\n",
       "      <td>9367.000000</td>\n",
       "      <td>10841.000000</td>\n",
       "    </tr>\n",
       "    <tr>\n",
       "      <th>mean</th>\n",
       "      <td>4.193338</td>\n",
       "      <td>21516.529524</td>\n",
       "    </tr>\n",
       "    <tr>\n",
       "      <th>std</th>\n",
       "      <td>0.537431</td>\n",
       "      <td>20746.537567</td>\n",
       "    </tr>\n",
       "    <tr>\n",
       "      <th>min</th>\n",
       "      <td>1.000000</td>\n",
       "      <td>8.500000</td>\n",
       "    </tr>\n",
       "    <tr>\n",
       "      <th>25%</th>\n",
       "      <td>4.000000</td>\n",
       "      <td>5900.000000</td>\n",
       "    </tr>\n",
       "    <tr>\n",
       "      <th>50%</th>\n",
       "      <td>4.300000</td>\n",
       "      <td>18000.000000</td>\n",
       "    </tr>\n",
       "    <tr>\n",
       "      <th>75%</th>\n",
       "      <td>4.500000</td>\n",
       "      <td>26000.000000</td>\n",
       "    </tr>\n",
       "    <tr>\n",
       "      <th>max</th>\n",
       "      <td>19.000000</td>\n",
       "      <td>100000.000000</td>\n",
       "    </tr>\n",
       "  </tbody>\n",
       "</table>\n",
       "</div>"
      ],
      "text/plain": [
       "            Rating           Size\n",
       "count  9367.000000   10841.000000\n",
       "mean      4.193338   21516.529524\n",
       "std       0.537431   20746.537567\n",
       "min       1.000000       8.500000\n",
       "25%       4.000000    5900.000000\n",
       "50%       4.300000   18000.000000\n",
       "75%       4.500000   26000.000000\n",
       "max      19.000000  100000.000000"
      ]
     },
     "execution_count": 6,
     "metadata": {},
     "output_type": "execute_result"
    }
   ],
   "source": [
    "file_data_frame.describe()"
   ]
  },
  {
   "cell_type": "code",
   "execution_count": 7,
   "id": "5ed1476d-a007-4e8f-8847-99647956659a",
   "metadata": {},
   "outputs": [
    {
     "data": {
      "text/html": [
       "<div>\n",
       "<style scoped>\n",
       "    .dataframe tbody tr th:only-of-type {\n",
       "        vertical-align: middle;\n",
       "    }\n",
       "\n",
       "    .dataframe tbody tr th {\n",
       "        vertical-align: top;\n",
       "    }\n",
       "\n",
       "    .dataframe thead th {\n",
       "        text-align: right;\n",
       "    }\n",
       "</style>\n",
       "<table border=\"1\" class=\"dataframe\">\n",
       "  <thead>\n",
       "    <tr style=\"text-align: right;\">\n",
       "      <th></th>\n",
       "      <th>App</th>\n",
       "      <th>Category</th>\n",
       "      <th>Rating</th>\n",
       "      <th>Reviews</th>\n",
       "      <th>Size</th>\n",
       "      <th>Installs</th>\n",
       "      <th>Type</th>\n",
       "      <th>Price</th>\n",
       "      <th>Content Rating</th>\n",
       "      <th>Genres</th>\n",
       "      <th>Last Updated</th>\n",
       "      <th>Current Ver</th>\n",
       "      <th>Android Ver</th>\n",
       "    </tr>\n",
       "  </thead>\n",
       "  <tbody>\n",
       "    <tr>\n",
       "      <th>10472</th>\n",
       "      <td>Life Made WI-Fi Touchscreen Photo Frame</td>\n",
       "      <td>1.9</td>\n",
       "      <td>19.0</td>\n",
       "      <td>3.0M</td>\n",
       "      <td>21516.52952</td>\n",
       "      <td>Free</td>\n",
       "      <td>0</td>\n",
       "      <td>Everyone</td>\n",
       "      <td>NaN</td>\n",
       "      <td>11-Feb-18</td>\n",
       "      <td>1.0.19</td>\n",
       "      <td>4.0 and up</td>\n",
       "      <td>NaN</td>\n",
       "    </tr>\n",
       "  </tbody>\n",
       "</table>\n",
       "</div>"
      ],
      "text/plain": [
       "                                           App Category  Rating Reviews  \\\n",
       "10472  Life Made WI-Fi Touchscreen Photo Frame      1.9    19.0    3.0M   \n",
       "\n",
       "              Size Installs Type     Price Content Rating     Genres  \\\n",
       "10472  21516.52952     Free    0  Everyone            NaN  11-Feb-18   \n",
       "\n",
       "      Last Updated Current Ver Android Ver  \n",
       "10472       1.0.19  4.0 and up         NaN  "
      ]
     },
     "execution_count": 7,
     "metadata": {},
     "output_type": "execute_result"
    }
   ],
   "source": [
    "#After trying to convert price dtype to numeric, it shows some error and checking that index\n",
    "file_data_frame[file_data_frame['Price']=='Everyone']"
   ]
  },
  {
   "cell_type": "code",
   "execution_count": 8,
   "id": "c0382ca9-9b9e-4269-b937-68989494b617",
   "metadata": {},
   "outputs": [],
   "source": [
    "#Shifting values from category to android ver\n",
    "file_data_frame.loc[file_data_frame[\"Price\"]==\"Everyone\", \"Category\":\"Android Ver\"] = file_data_frame.loc[file_data_frame[\"Price\"]==\"Everyone\", \"Category\":\"Android Ver\"].shift(axis=1)"
   ]
  },
  {
   "cell_type": "code",
   "execution_count": 9,
   "id": "136d22b9-103b-44a8-8c08-a23fc0e05a56",
   "metadata": {},
   "outputs": [
    {
     "data": {
      "text/html": [
       "<div>\n",
       "<style scoped>\n",
       "    .dataframe tbody tr th:only-of-type {\n",
       "        vertical-align: middle;\n",
       "    }\n",
       "\n",
       "    .dataframe tbody tr th {\n",
       "        vertical-align: top;\n",
       "    }\n",
       "\n",
       "    .dataframe thead th {\n",
       "        text-align: right;\n",
       "    }\n",
       "</style>\n",
       "<table border=\"1\" class=\"dataframe\">\n",
       "  <thead>\n",
       "    <tr style=\"text-align: right;\">\n",
       "      <th></th>\n",
       "      <th>App</th>\n",
       "      <th>Category</th>\n",
       "      <th>Rating</th>\n",
       "      <th>Reviews</th>\n",
       "      <th>Size</th>\n",
       "      <th>Installs</th>\n",
       "      <th>Type</th>\n",
       "      <th>Price</th>\n",
       "      <th>Content Rating</th>\n",
       "      <th>Genres</th>\n",
       "      <th>Last Updated</th>\n",
       "      <th>Current Ver</th>\n",
       "      <th>Android Ver</th>\n",
       "    </tr>\n",
       "  </thead>\n",
       "  <tbody>\n",
       "    <tr>\n",
       "      <th>10472</th>\n",
       "      <td>Life Made WI-Fi Touchscreen Photo Frame</td>\n",
       "      <td>None</td>\n",
       "      <td>1.9</td>\n",
       "      <td>19.0</td>\n",
       "      <td>3.0M</td>\n",
       "      <td>21516.52952</td>\n",
       "      <td>Free</td>\n",
       "      <td>0</td>\n",
       "      <td>Everyone</td>\n",
       "      <td>NaN</td>\n",
       "      <td>11-Feb-18</td>\n",
       "      <td>1.0.19</td>\n",
       "      <td>4.0 and up</td>\n",
       "    </tr>\n",
       "  </tbody>\n",
       "</table>\n",
       "</div>"
      ],
      "text/plain": [
       "                                           App Category Rating Reviews  Size  \\\n",
       "10472  Life Made WI-Fi Touchscreen Photo Frame     None    1.9    19.0  3.0M   \n",
       "\n",
       "          Installs  Type Price Content Rating Genres Last Updated Current Ver  \\\n",
       "10472  21516.52952  Free     0       Everyone    NaN    11-Feb-18      1.0.19   \n",
       "\n",
       "      Android Ver  \n",
       "10472  4.0 and up  "
      ]
     },
     "execution_count": 9,
     "metadata": {},
     "output_type": "execute_result"
    }
   ],
   "source": [
    "file_data_frame[file_data_frame['Category'].isnull()]"
   ]
  },
  {
   "cell_type": "code",
   "execution_count": 10,
   "id": "c5f4869a-7554-4e47-b4fd-bcde63e55c11",
   "metadata": {},
   "outputs": [],
   "source": [
    "#category none value filling with lifestyle, the value extracted from playstore\n",
    "file_data_frame.Category.fillna(value='LIFESTYLE', inplace=True)"
   ]
  },
  {
   "cell_type": "code",
   "execution_count": 11,
   "id": "6af7ddc8-da53-4b41-a240-e15f165296c5",
   "metadata": {},
   "outputs": [
    {
     "name": "stdout",
     "output_type": "stream",
     "text": [
      "<class 'pandas.core.frame.DataFrame'>\n",
      "RangeIndex: 10841 entries, 0 to 10840\n",
      "Data columns (total 13 columns):\n",
      " #   Column          Non-Null Count  Dtype \n",
      "---  ------          --------------  ----- \n",
      " 0   App             10841 non-null  object\n",
      " 1   Category        10841 non-null  object\n",
      " 2   Rating          9367 non-null   object\n",
      " 3   Reviews         10841 non-null  object\n",
      " 4   Size            10841 non-null  object\n",
      " 5   Installs        10841 non-null  object\n",
      " 6   Type            10840 non-null  object\n",
      " 7   Price           10841 non-null  object\n",
      " 8   Content Rating  10841 non-null  object\n",
      " 9   Genres          10840 non-null  object\n",
      " 10  Last Updated    10841 non-null  object\n",
      " 11  Current Ver     10833 non-null  object\n",
      " 12  Android Ver     10839 non-null  object\n",
      "dtypes: object(13)\n",
      "memory usage: 1.1+ MB\n"
     ]
    }
   ],
   "source": [
    "file_data_frame.info()"
   ]
  },
  {
   "cell_type": "code",
   "execution_count": 12,
   "id": "9b5da67c-370f-4fed-b7e8-137db39b0b4f",
   "metadata": {},
   "outputs": [
    {
     "data": {
      "text/plain": [
       "False    10358\n",
       "True       483\n",
       "dtype: int64"
      ]
     },
     "execution_count": 12,
     "metadata": {},
     "output_type": "execute_result"
    }
   ],
   "source": [
    "#counting duplicate values\n",
    "file_data_frame.duplicated().value_counts()"
   ]
  },
  {
   "cell_type": "code",
   "execution_count": 13,
   "id": "8f33a8e2-4ede-4ea7-9bab-82906e68d711",
   "metadata": {},
   "outputs": [],
   "source": [
    "#there are 483 duplicate records, just drop that duplicate values(keeping one row there and other duplicate values droping)\n",
    "file_data_frame.drop_duplicates(keep='first', inplace=True)"
   ]
  },
  {
   "cell_type": "code",
   "execution_count": 14,
   "id": "fffa79bf-30b0-4370-912e-b5b1e4168a78",
   "metadata": {},
   "outputs": [
    {
     "data": {
      "text/plain": [
       "False    10358\n",
       "dtype: int64"
      ]
     },
     "execution_count": 14,
     "metadata": {},
     "output_type": "execute_result"
    }
   ],
   "source": [
    "#checking duplicate values\n",
    "file_data_frame.duplicated().value_counts()"
   ]
  },
  {
   "cell_type": "code",
   "execution_count": 15,
   "id": "ddce3563-f0fc-4d15-b3ee-fdf9cb120479",
   "metadata": {},
   "outputs": [
    {
     "data": {
      "text/plain": [
       "array(['ART_AND_DESIGN', 'AUTO_AND_VEHICLES', 'BEAUTY',\n",
       "       'BOOKS_AND_REFERENCE', 'BUSINESS', 'COMICS', 'COMMUNICATION',\n",
       "       'DATING', 'EDUCATION', 'ENTERTAINMENT', 'EVENTS', 'FINANCE',\n",
       "       'FOOD_AND_DRINK', 'HEALTH_AND_FITNESS', 'HOUSE_AND_HOME',\n",
       "       'LIBRARIES_AND_DEMO', 'LIFESTYLE', 'GAME', 'FAMILY', 'MEDICAL',\n",
       "       'SOCIAL', 'SHOPPING', 'PHOTOGRAPHY', 'SPORTS', 'TRAVEL_AND_LOCAL',\n",
       "       'TOOLS', 'PERSONALIZATION', 'PRODUCTIVITY', 'PARENTING', 'WEATHER',\n",
       "       'VIDEO_PLAYERS', 'NEWS_AND_MAGAZINES', 'MAPS_AND_NAVIGATION'],\n",
       "      dtype=object)"
      ]
     },
     "execution_count": 15,
     "metadata": {},
     "output_type": "execute_result"
    }
   ],
   "source": [
    "file_data_frame['Category'].unique()"
   ]
  },
  {
   "cell_type": "code",
   "execution_count": 16,
   "id": "a2a598f0-2635-4f57-8f7b-1feac130cf39",
   "metadata": {},
   "outputs": [
    {
     "data": {
      "text/plain": [
       "array([4.1, 3.9, 4.7, 4.5, 4.3, 4.4, 3.8, 4.2, 4.6, 3.2, 4.0, nan, 4.8,\n",
       "       4.9, 3.6, 3.7, 3.3, 3.4, 3.5, 3.1, 5.0, 2.6, 3.0, 1.9, 2.5, 2.8,\n",
       "       2.7, 1.0, 2.9, 2.3, 2.2, 1.7, 2.0, 1.8, 2.4, 1.6, 2.1, 1.4, 1.5,\n",
       "       1.2, '1.9'], dtype=object)"
      ]
     },
     "execution_count": 16,
     "metadata": {},
     "output_type": "execute_result"
    }
   ],
   "source": [
    "file_data_frame['Rating'].unique()"
   ]
  },
  {
   "cell_type": "code",
   "execution_count": 17,
   "id": "4c1f342e-41f2-432c-90b1-05d058922e3f",
   "metadata": {},
   "outputs": [],
   "source": [
    "#in Rating we got a nan value\n",
    "#replacing NaN value to 0 because that app has no rating\n",
    "file_data_frame['Rating'] = file_data_frame['Rating'].fillna(0)"
   ]
  },
  {
   "cell_type": "code",
   "execution_count": 18,
   "id": "c40bcec4-7876-4ce2-bc86-527c3180d29d",
   "metadata": {},
   "outputs": [
    {
     "data": {
      "text/plain": [
       "array(['159', '967', '87510', ..., '603', '1195', '398307'], dtype=object)"
      ]
     },
     "execution_count": 18,
     "metadata": {},
     "output_type": "execute_result"
    }
   ],
   "source": [
    "file_data_frame['Reviews'].unique()"
   ]
  },
  {
   "cell_type": "code",
   "execution_count": 19,
   "id": "fdee702e-2223-4a50-9225-f1b536fed1ca",
   "metadata": {},
   "outputs": [
    {
     "data": {
      "text/plain": [
       "array([19000.0, 14000.0, 8700.0, 25000.0, 2800.0, 5600.0, 29000.0,\n",
       "       33000.0, 3100.0, 28000.0, 12000.0, 20000.0, 21000.0, 37000.0,\n",
       "       2700.0, 5500.0, 17000.0, 39000.0, 31000.0, 4200.0, 7000.0, 23000.0,\n",
       "       6000.0, 6100.0, 4600.0, 9200.0, 5200.0, 11000.0, 24000.0,\n",
       "       21516.52952, 9400.0, 15000.0, 10000.0, 1200.0, 26000.0, 8000.0,\n",
       "       7900.0, 56000.0, 57000.0, 35000.0, 54000.0, 201.0, 3600.0, 5700.0,\n",
       "       8600.0, 2400.0, 27000.0, 2500.0, 16000.0, 3400.0, 8900.0, 3900.0,\n",
       "       2900.0, 38000.0, 32000.0, 5400.0, 18000.0, 1100.0, 2200.0, 4500.0,\n",
       "       9800.0, 52000.0, 9000.0, 6700.0, 30000.0, 2600.0, 7100.0, 3700.0,\n",
       "       22000.0, 7400.0, 6400.0, 3200.0, 8200.0, 9900.0, 4900.0, 9500.0,\n",
       "       5000.0, 5900.0, 13000.0, 73000.0, 6800.0, 3500.0, 4000.0, 2300.0,\n",
       "       7200.0, 2100.0, 42000.0, 7300.0, 9100.0, 55000.0, 23.0, 6500.0,\n",
       "       1500.0, 7500.0, 51000.0, 41000.0, 48000.0, 8500.0, 46000.0, 8300.0,\n",
       "       4300.0, 4700.0, 3300.0, 40000.0, 7800.0, 8800.0, 6600.0, 5100.0,\n",
       "       61000.0, 66000.0, 79.0, 8400.0, 118.0, 44000.0, 695.0, 1600.0,\n",
       "       6200.0, 18.0, 53000.0, 1400.0, 3000.0, 5800.0, 3800.0, 9600.0,\n",
       "       45000.0, 63000.0, 49000.0, 77000.0, 4400.0, 4800.0, 70000.0,\n",
       "       6900.0, 9300.0, 8100.0, 36000.0, 84000.0, 97000.0, 2000.0, 1900.0,\n",
       "       1800.0, 5300.0, 47000.0, 556.0, 526.0, 76000.0, 7600.0, 59000.0,\n",
       "       9700.0, 78000.0, 72000.0, 43000.0, 7700.0, 6300.0, 334.0, 34000.0,\n",
       "       93000.0, 65000.0, 79000.0, 100000.0, 58000.0, 50000.0, 68000.0,\n",
       "       64000.0, 67000.0, 60000.0, 94000.0, 232.0, 99000.0, 624.0, 95000.0,\n",
       "       8.5, 41.0, 292.0, 11.0, 80000.0, 1700.0, 74000.0, 62000.0, 69000.0,\n",
       "       75000.0, 98000.0, 85000.0, 82000.0, 96000.0, 87000.0, 71000.0,\n",
       "       86000.0, 91000.0, 81000.0, 92000.0, 83000.0, 88000.0, 704.0, 862.0,\n",
       "       899.0, 378.0, 266.0, 375.0, 1300.0, 975.0, 980.0, 4100.0, 89000.0,\n",
       "       696.0, 544.0, 525.0, 920.0, 779.0, 853.0, 720.0, 713.0, 772.0,\n",
       "       318.0, 58.0, 241.0, 196.0, 857.0, 51.0, 953.0, 865.0, 251.0, 930.0,\n",
       "       540.0, 313.0, 746.0, 203.0, 26.0, 314.0, 239.0, 371.0, 220.0,\n",
       "       730.0, 756.0, 91.0, 293.0, 17.0, 74.0, 14.0, 317.0, 78.0, 924.0,\n",
       "       902.0, 818.0, 81.0, 939.0, 169.0, 45.0, 475.0, 965.0, 90000.0,\n",
       "       545.0, 61.0, 283.0, 655.0, 714.0, 93.0, 872.0, 121.0, 322.0,\n",
       "       1000.0, 976.0, 172.0, 238.0, 549.0, 206.0, 954.0, 444.0, 717.0,\n",
       "       210.0, 609.0, 308.0, 705.0, 306.0, 904.0, 473.0, 175.0, 350.0,\n",
       "       383.0, 454.0, 421.0, 70.0, 812.0, 442.0, 842.0, 417.0, 412.0,\n",
       "       459.0, 478.0, 335.0, 782.0, 721.0, 430.0, 429.0, 192.0, 200.0,\n",
       "       460.0, 728.0, 496.0, 816.0, 414.0, 506.0, 887.0, 613.0, 243.0,\n",
       "       569.0, 778.0, 683.0, 592.0, 319.0, 186.0, 840.0, 647.0, 191.0,\n",
       "       373.0, 437.0, 598.0, 716.0, 585.0, 982.0, 222.0, 219.0, 55.0,\n",
       "       948.0, 323.0, 691.0, 511.0, 951.0, 963.0, 25.0, 554.0, 351.0, 27.0,\n",
       "       82.0, 208.0, 913.0, 514.0, 551.0, 29.0, 103.0, 898.0, 743.0, 116.0,\n",
       "       153.0, 209.0, 353.0, 499.0, 173.0, 597.0, 809.0, 122.0, 411.0,\n",
       "       400.0, 801.0, 787.0, 237.0, 50.0, 643.0, 986.0, 97.0, 516.0, 837.0,\n",
       "       780.0, 961.0, 269.0, 20.0, 498.0, 600.0, 749.0, 642.0, 881.0, 72.0,\n",
       "       656.0, 601.0, 221.0, 228.0, 108.0, 940.0, 176.0, 33.0, 663.0, 34.0,\n",
       "       942.0, 259.0, 164.0, 458.0, 245.0, 629.0, 28.0, 288.0, 775.0,\n",
       "       785.0, 636.0, 916.0, 994.0, 309.0, 485.0, 914.0, 903.0, 608.0,\n",
       "       500.0, 54.0, 562.0, 847.0, 957.0, 688.0, 811.0, 270.0, 48.0, 329.0,\n",
       "       523.0, 921.0, 874.0, 981.0, 784.0, 280.0, 24.0, 518.0, 754.0,\n",
       "       892.0, 154.0, 860.0, 364.0, 387.0, 626.0, 161.0, 879.0, 39.0,\n",
       "       970.0, 170.0, 141.0, 160.0, 144.0, 143.0, 190.0, 376.0, 193.0,\n",
       "       246.0, 73.0, 658.0, 992.0, 253.0, 420.0, 404.0, '3.0M', 470.0,\n",
       "       226.0, 240.0, 89.0, 234.0, 257.0, 861.0, 467.0, 157.0, 44.0, 676.0,\n",
       "       67.0, 552.0, 885.0, 1020.0, 582.0, 619.0], dtype=object)"
      ]
     },
     "execution_count": 19,
     "metadata": {},
     "output_type": "execute_result"
    }
   ],
   "source": [
    "file_data_frame['Size'].unique()"
   ]
  },
  {
   "cell_type": "code",
   "execution_count": 20,
   "id": "9f6e1540-1ada-4c2c-9779-8a495da8a953",
   "metadata": {},
   "outputs": [
    {
     "data": {
      "text/html": [
       "<div>\n",
       "<style scoped>\n",
       "    .dataframe tbody tr th:only-of-type {\n",
       "        vertical-align: middle;\n",
       "    }\n",
       "\n",
       "    .dataframe tbody tr th {\n",
       "        vertical-align: top;\n",
       "    }\n",
       "\n",
       "    .dataframe thead th {\n",
       "        text-align: right;\n",
       "    }\n",
       "</style>\n",
       "<table border=\"1\" class=\"dataframe\">\n",
       "  <thead>\n",
       "    <tr style=\"text-align: right;\">\n",
       "      <th></th>\n",
       "      <th>App</th>\n",
       "      <th>Category</th>\n",
       "      <th>Rating</th>\n",
       "      <th>Reviews</th>\n",
       "      <th>Size</th>\n",
       "      <th>Installs</th>\n",
       "      <th>Type</th>\n",
       "      <th>Price</th>\n",
       "      <th>Content Rating</th>\n",
       "      <th>Genres</th>\n",
       "      <th>Last Updated</th>\n",
       "      <th>Current Ver</th>\n",
       "      <th>Android Ver</th>\n",
       "    </tr>\n",
       "  </thead>\n",
       "  <tbody>\n",
       "    <tr>\n",
       "      <th>10472</th>\n",
       "      <td>Life Made WI-Fi Touchscreen Photo Frame</td>\n",
       "      <td>LIFESTYLE</td>\n",
       "      <td>1.9</td>\n",
       "      <td>19.0</td>\n",
       "      <td>3.0M</td>\n",
       "      <td>21516.52952</td>\n",
       "      <td>Free</td>\n",
       "      <td>0</td>\n",
       "      <td>Everyone</td>\n",
       "      <td>NaN</td>\n",
       "      <td>11-Feb-18</td>\n",
       "      <td>1.0.19</td>\n",
       "      <td>4.0 and up</td>\n",
       "    </tr>\n",
       "  </tbody>\n",
       "</table>\n",
       "</div>"
      ],
      "text/plain": [
       "                                           App   Category Rating Reviews  \\\n",
       "10472  Life Made WI-Fi Touchscreen Photo Frame  LIFESTYLE    1.9    19.0   \n",
       "\n",
       "       Size     Installs  Type Price Content Rating Genres Last Updated  \\\n",
       "10472  3.0M  21516.52952  Free     0       Everyone    NaN    11-Feb-18   \n",
       "\n",
       "      Current Ver Android Ver  \n",
       "10472      1.0.19  4.0 and up  "
      ]
     },
     "execution_count": 20,
     "metadata": {},
     "output_type": "execute_result"
    }
   ],
   "source": [
    "file_data_frame[file_data_frame['Size']=='3.0M']"
   ]
  },
  {
   "cell_type": "code",
   "execution_count": 21,
   "id": "26fd36d7-7767-4268-879a-6dfc14d34e19",
   "metadata": {},
   "outputs": [],
   "source": [
    "#By using loc method we replace the '3.0M' to 3.0\n",
    "file_data_frame.loc[10472,'Size']=3.0"
   ]
  },
  {
   "cell_type": "code",
   "execution_count": 22,
   "id": "0b87d429-d1ae-4bbe-80fd-171d7a91a0d1",
   "metadata": {},
   "outputs": [],
   "source": [
    "file_data_frame.loc[10472,'Rating']=1.9"
   ]
  },
  {
   "cell_type": "code",
   "execution_count": 23,
   "id": "52106b00-f79f-4f91-9185-5aa669322c55",
   "metadata": {},
   "outputs": [
    {
     "data": {
      "text/plain": [
       "array(['10,000+', '500,000+', '5,000,000+', '50,000,000+', '100,000+',\n",
       "       '50,000+', '1,000,000+', '10,000,000+', '5,000+', '100,000,000+',\n",
       "       '1,000,000,000+', '1,000+', '500,000,000+', '50+', '100+', '500+',\n",
       "       '10+', '1+', '5+', '0+', '0', 21516.52952], dtype=object)"
      ]
     },
     "execution_count": 23,
     "metadata": {},
     "output_type": "execute_result"
    }
   ],
   "source": [
    "file_data_frame['Installs'].unique()"
   ]
  },
  {
   "cell_type": "code",
   "execution_count": 24,
   "id": "b4aa4cbd-21c9-4dd0-abad-7baabbd3967b",
   "metadata": {},
   "outputs": [],
   "source": [
    "#Removing ','\n",
    "file_data_frame['Installs'] = file_data_frame['Installs'].str.replace(',', '', regex=True)"
   ]
  },
  {
   "cell_type": "code",
   "execution_count": 25,
   "id": "0c3faa71-9193-4c8c-8f9d-a10400418980",
   "metadata": {},
   "outputs": [],
   "source": [
    "file_data_frame['Installs'] = file_data_frame['Installs'].str.replace('+', '', regex=True)"
   ]
  },
  {
   "cell_type": "code",
   "execution_count": 26,
   "id": "8df00a93-50af-4c01-a551-3697339537b0",
   "metadata": {},
   "outputs": [
    {
     "data": {
      "text/html": [
       "<div>\n",
       "<style scoped>\n",
       "    .dataframe tbody tr th:only-of-type {\n",
       "        vertical-align: middle;\n",
       "    }\n",
       "\n",
       "    .dataframe tbody tr th {\n",
       "        vertical-align: top;\n",
       "    }\n",
       "\n",
       "    .dataframe thead th {\n",
       "        text-align: right;\n",
       "    }\n",
       "</style>\n",
       "<table border=\"1\" class=\"dataframe\">\n",
       "  <thead>\n",
       "    <tr style=\"text-align: right;\">\n",
       "      <th></th>\n",
       "      <th>App</th>\n",
       "      <th>Category</th>\n",
       "      <th>Rating</th>\n",
       "      <th>Reviews</th>\n",
       "      <th>Size</th>\n",
       "      <th>Installs</th>\n",
       "      <th>Type</th>\n",
       "      <th>Price</th>\n",
       "      <th>Content Rating</th>\n",
       "      <th>Genres</th>\n",
       "      <th>Last Updated</th>\n",
       "      <th>Current Ver</th>\n",
       "      <th>Android Ver</th>\n",
       "    </tr>\n",
       "  </thead>\n",
       "  <tbody>\n",
       "    <tr>\n",
       "      <th>10472</th>\n",
       "      <td>Life Made WI-Fi Touchscreen Photo Frame</td>\n",
       "      <td>LIFESTYLE</td>\n",
       "      <td>1.9</td>\n",
       "      <td>19.0</td>\n",
       "      <td>3.0</td>\n",
       "      <td>NaN</td>\n",
       "      <td>Free</td>\n",
       "      <td>0</td>\n",
       "      <td>Everyone</td>\n",
       "      <td>NaN</td>\n",
       "      <td>11-Feb-18</td>\n",
       "      <td>1.0.19</td>\n",
       "      <td>4.0 and up</td>\n",
       "    </tr>\n",
       "  </tbody>\n",
       "</table>\n",
       "</div>"
      ],
      "text/plain": [
       "                                           App   Category Rating Reviews Size  \\\n",
       "10472  Life Made WI-Fi Touchscreen Photo Frame  LIFESTYLE    1.9    19.0  3.0   \n",
       "\n",
       "      Installs  Type Price Content Rating Genres Last Updated Current Ver  \\\n",
       "10472      NaN  Free     0       Everyone    NaN    11-Feb-18      1.0.19   \n",
       "\n",
       "      Android Ver  \n",
       "10472  4.0 and up  "
      ]
     },
     "execution_count": 26,
     "metadata": {},
     "output_type": "execute_result"
    }
   ],
   "source": [
    "file_data_frame[file_data_frame['Installs'].isnull()]"
   ]
  },
  {
   "cell_type": "code",
   "execution_count": 27,
   "id": "b500c3f7-0c3d-479a-9497-ef4df78db83e",
   "metadata": {},
   "outputs": [],
   "source": [
    "#Replacing NaN value with 0\n",
    "file_data_frame.fillna({'Installs':0},inplace=True)"
   ]
  },
  {
   "cell_type": "code",
   "execution_count": 28,
   "id": "743fbe1c-3d90-412c-9e05-9339db333312",
   "metadata": {},
   "outputs": [
    {
     "data": {
      "text/html": [
       "<div>\n",
       "<style scoped>\n",
       "    .dataframe tbody tr th:only-of-type {\n",
       "        vertical-align: middle;\n",
       "    }\n",
       "\n",
       "    .dataframe tbody tr th {\n",
       "        vertical-align: top;\n",
       "    }\n",
       "\n",
       "    .dataframe thead th {\n",
       "        text-align: right;\n",
       "    }\n",
       "</style>\n",
       "<table border=\"1\" class=\"dataframe\">\n",
       "  <thead>\n",
       "    <tr style=\"text-align: right;\">\n",
       "      <th></th>\n",
       "      <th>App</th>\n",
       "      <th>Category</th>\n",
       "      <th>Rating</th>\n",
       "      <th>Reviews</th>\n",
       "      <th>Size</th>\n",
       "      <th>Installs</th>\n",
       "      <th>Type</th>\n",
       "      <th>Price</th>\n",
       "      <th>Content Rating</th>\n",
       "      <th>Genres</th>\n",
       "      <th>Last Updated</th>\n",
       "      <th>Current Ver</th>\n",
       "      <th>Android Ver</th>\n",
       "    </tr>\n",
       "  </thead>\n",
       "  <tbody>\n",
       "    <tr>\n",
       "      <th>9148</th>\n",
       "      <td>Command &amp; Conquer: Rivals</td>\n",
       "      <td>FAMILY</td>\n",
       "      <td>0</td>\n",
       "      <td>0</td>\n",
       "      <td>21516.52952</td>\n",
       "      <td>0</td>\n",
       "      <td>NaN</td>\n",
       "      <td>0</td>\n",
       "      <td>Everyone 10+</td>\n",
       "      <td>Strategy</td>\n",
       "      <td>28-Jun-18</td>\n",
       "      <td>Varies with device</td>\n",
       "      <td>Varies with device</td>\n",
       "    </tr>\n",
       "  </tbody>\n",
       "</table>\n",
       "</div>"
      ],
      "text/plain": [
       "                            App Category Rating Reviews         Size Installs  \\\n",
       "9148  Command & Conquer: Rivals   FAMILY      0       0  21516.52952        0   \n",
       "\n",
       "     Type Price Content Rating    Genres Last Updated         Current Ver  \\\n",
       "9148  NaN     0   Everyone 10+  Strategy    28-Jun-18  Varies with device   \n",
       "\n",
       "             Android Ver  \n",
       "9148  Varies with device  "
      ]
     },
     "execution_count": 28,
     "metadata": {},
     "output_type": "execute_result"
    }
   ],
   "source": [
    "file_data_frame[file_data_frame['Type'].isnull()]"
   ]
  },
  {
   "cell_type": "code",
   "execution_count": 29,
   "id": "cc1ca114-be77-4aec-81df-2c7775f71c6b",
   "metadata": {},
   "outputs": [],
   "source": [
    "file_data_frame.fillna({'Type':'Free'},inplace=True)"
   ]
  },
  {
   "cell_type": "code",
   "execution_count": 30,
   "id": "6f227b60-b460-40b9-9058-b72e87aa9a7f",
   "metadata": {},
   "outputs": [
    {
     "data": {
      "text/plain": [
       "array(['Free', 'Paid'], dtype=object)"
      ]
     },
     "execution_count": 30,
     "metadata": {},
     "output_type": "execute_result"
    }
   ],
   "source": [
    "file_data_frame['Type'].unique()"
   ]
  },
  {
   "cell_type": "code",
   "execution_count": 31,
   "id": "a5cf5e31-915f-40e7-9999-5402c9fb6f56",
   "metadata": {},
   "outputs": [
    {
     "data": {
      "text/plain": [
       "array(['0', '$4.99 ', '$3.99 ', '$6.99 ', '$1.49 ', '$2.99 ', '$7.99 ',\n",
       "       '$5.99 ', '$3.49 ', '$1.99 ', '$9.99 ', '$7.49 ', '$0.99 ',\n",
       "       '$9.00 ', '$5.49 ', '$10.00 ', '$24.99 ', '$11.99 ', '$79.99 ',\n",
       "       '$16.99 ', '$14.99 ', '$1.00 ', '$29.99 ', '$12.99 ', '$2.49 ',\n",
       "       '$10.99 ', '$1.50 ', '$19.99 ', '$15.99 ', '$33.99 ', '$74.99 ',\n",
       "       '$39.99 ', '$3.95 ', '$4.49 ', '$1.70 ', '$8.99 ', '$2.00 ',\n",
       "       '$3.88 ', '$25.99 ', '$399.99 ', '$17.99 ', '$400.00 ', '$3.02 ',\n",
       "       '$1.76 ', '$4.84 ', '$4.77 ', '$1.61 ', '$2.50 ', '$1.59 ',\n",
       "       '$6.49 ', '$1.29 ', '$5.00 ', '$13.99 ', '$299.99 ', '$379.99 ',\n",
       "       '$37.99 ', '$18.99 ', '$389.99 ', '$19.90 ', '$8.49 ', '$1.75 ',\n",
       "       '$14.00 ', '$4.85 ', '$46.99 ', '$109.99 ', '$154.99 ', '$3.08 ',\n",
       "       '$2.59 ', '$4.80 ', '$1.96 ', '$19.40 ', '$3.90 ', '$4.59 ',\n",
       "       '$15.46 ', '$3.04 ', '$4.29 ', '$2.60 ', '$3.28 ', '$4.60 ',\n",
       "       '$28.99 ', '$2.95 ', '$2.90 ', '$1.97 ', '$200.00 ', '$89.99 ',\n",
       "       '$2.56 ', '$30.99 ', '$3.61 ', '$394.99 ', '$1.26 ', '$1.20 ',\n",
       "       '$1.04 '], dtype=object)"
      ]
     },
     "execution_count": 31,
     "metadata": {},
     "output_type": "execute_result"
    }
   ],
   "source": [
    "file_data_frame['Price'].unique()"
   ]
  },
  {
   "cell_type": "code",
   "execution_count": 32,
   "id": "f8048768-f72f-4e29-b45a-e7a697f770ea",
   "metadata": {},
   "outputs": [],
   "source": [
    "file_data_frame['Price'] = file_data_frame['Price'].str.replace('$', '', regex=True)"
   ]
  },
  {
   "cell_type": "code",
   "execution_count": 33,
   "id": "6d8bc72d-9418-47c1-b3b4-8de648734fe6",
   "metadata": {},
   "outputs": [],
   "source": [
    "file_data_frame['Price'] = file_data_frame['Price'].str.replace(' ', '', regex=True)"
   ]
  },
  {
   "cell_type": "code",
   "execution_count": 34,
   "id": "27a57c69-f6b6-472f-a7c2-3a85040f4f07",
   "metadata": {},
   "outputs": [
    {
     "data": {
      "text/html": [
       "<div>\n",
       "<style scoped>\n",
       "    .dataframe tbody tr th:only-of-type {\n",
       "        vertical-align: middle;\n",
       "    }\n",
       "\n",
       "    .dataframe tbody tr th {\n",
       "        vertical-align: top;\n",
       "    }\n",
       "\n",
       "    .dataframe thead th {\n",
       "        text-align: right;\n",
       "    }\n",
       "</style>\n",
       "<table border=\"1\" class=\"dataframe\">\n",
       "  <thead>\n",
       "    <tr style=\"text-align: right;\">\n",
       "      <th></th>\n",
       "      <th>App</th>\n",
       "      <th>Category</th>\n",
       "      <th>Rating</th>\n",
       "      <th>Reviews</th>\n",
       "      <th>Size</th>\n",
       "      <th>Installs</th>\n",
       "      <th>Type</th>\n",
       "      <th>Price</th>\n",
       "      <th>Content Rating</th>\n",
       "      <th>Genres</th>\n",
       "      <th>Last Updated</th>\n",
       "      <th>Current Ver</th>\n",
       "      <th>Android Ver</th>\n",
       "    </tr>\n",
       "  </thead>\n",
       "  <tbody>\n",
       "    <tr>\n",
       "      <th>10472</th>\n",
       "      <td>Life Made WI-Fi Touchscreen Photo Frame</td>\n",
       "      <td>LIFESTYLE</td>\n",
       "      <td>1.9</td>\n",
       "      <td>19.0</td>\n",
       "      <td>3.0</td>\n",
       "      <td>0</td>\n",
       "      <td>Free</td>\n",
       "      <td>0</td>\n",
       "      <td>Everyone</td>\n",
       "      <td>NaN</td>\n",
       "      <td>11-Feb-18</td>\n",
       "      <td>1.0.19</td>\n",
       "      <td>4.0 and up</td>\n",
       "    </tr>\n",
       "  </tbody>\n",
       "</table>\n",
       "</div>"
      ],
      "text/plain": [
       "                                           App   Category Rating Reviews Size  \\\n",
       "10472  Life Made WI-Fi Touchscreen Photo Frame  LIFESTYLE    1.9    19.0  3.0   \n",
       "\n",
       "      Installs  Type Price Content Rating Genres Last Updated Current Ver  \\\n",
       "10472        0  Free     0       Everyone    NaN    11-Feb-18      1.0.19   \n",
       "\n",
       "      Android Ver  \n",
       "10472  4.0 and up  "
      ]
     },
     "execution_count": 34,
     "metadata": {},
     "output_type": "execute_result"
    }
   ],
   "source": [
    "file_data_frame[file_data_frame['Genres'].isnull()]"
   ]
  },
  {
   "cell_type": "code",
   "execution_count": 35,
   "id": "12bf8884-bed5-4f28-91e9-eaa0e0dd8eb0",
   "metadata": {},
   "outputs": [],
   "source": [
    "#Genres none value filling with lifestyle, the value extracted from playstore and cross checked from unique values\n",
    "file_data_frame.Genres.fillna(value='Lifestyle', inplace=True)"
   ]
  },
  {
   "cell_type": "code",
   "execution_count": 36,
   "id": "4f1e790c-9d80-4b85-a16a-5237c2ba3d31",
   "metadata": {},
   "outputs": [
    {
     "data": {
      "text/html": [
       "<div>\n",
       "<style scoped>\n",
       "    .dataframe tbody tr th:only-of-type {\n",
       "        vertical-align: middle;\n",
       "    }\n",
       "\n",
       "    .dataframe tbody tr th {\n",
       "        vertical-align: top;\n",
       "    }\n",
       "\n",
       "    .dataframe thead th {\n",
       "        text-align: right;\n",
       "    }\n",
       "</style>\n",
       "<table border=\"1\" class=\"dataframe\">\n",
       "  <thead>\n",
       "    <tr style=\"text-align: right;\">\n",
       "      <th></th>\n",
       "      <th>App</th>\n",
       "      <th>Category</th>\n",
       "      <th>Rating</th>\n",
       "      <th>Reviews</th>\n",
       "      <th>Size</th>\n",
       "      <th>Installs</th>\n",
       "      <th>Type</th>\n",
       "      <th>Price</th>\n",
       "      <th>Content Rating</th>\n",
       "      <th>Genres</th>\n",
       "      <th>Last Updated</th>\n",
       "      <th>Current Ver</th>\n",
       "      <th>Android Ver</th>\n",
       "    </tr>\n",
       "  </thead>\n",
       "  <tbody>\n",
       "    <tr>\n",
       "      <th>15</th>\n",
       "      <td>Learn To Draw Kawaii Characters</td>\n",
       "      <td>ART_AND_DESIGN</td>\n",
       "      <td>3.2</td>\n",
       "      <td>55</td>\n",
       "      <td>2700.0</td>\n",
       "      <td>5000</td>\n",
       "      <td>Free</td>\n",
       "      <td>0</td>\n",
       "      <td>Everyone</td>\n",
       "      <td>Art &amp; Design</td>\n",
       "      <td>6-Jun-18</td>\n",
       "      <td>NaN</td>\n",
       "      <td>4.2 and up</td>\n",
       "    </tr>\n",
       "    <tr>\n",
       "      <th>1553</th>\n",
       "      <td>Market Update Helper</td>\n",
       "      <td>LIBRARIES_AND_DEMO</td>\n",
       "      <td>4.1</td>\n",
       "      <td>20145</td>\n",
       "      <td>11.0</td>\n",
       "      <td>1000000</td>\n",
       "      <td>Free</td>\n",
       "      <td>0</td>\n",
       "      <td>Everyone</td>\n",
       "      <td>Libraries &amp; Demo</td>\n",
       "      <td>12-Feb-13</td>\n",
       "      <td>NaN</td>\n",
       "      <td>1.5 and up</td>\n",
       "    </tr>\n",
       "    <tr>\n",
       "      <th>6322</th>\n",
       "      <td>Virtual DJ Sound Mixer</td>\n",
       "      <td>TOOLS</td>\n",
       "      <td>4.2</td>\n",
       "      <td>4010</td>\n",
       "      <td>8700.0</td>\n",
       "      <td>500000</td>\n",
       "      <td>Free</td>\n",
       "      <td>0</td>\n",
       "      <td>Everyone</td>\n",
       "      <td>Tools</td>\n",
       "      <td>10-May-17</td>\n",
       "      <td>NaN</td>\n",
       "      <td>4.0 and up</td>\n",
       "    </tr>\n",
       "    <tr>\n",
       "      <th>6803</th>\n",
       "      <td>BT Master</td>\n",
       "      <td>FAMILY</td>\n",
       "      <td>0</td>\n",
       "      <td>0</td>\n",
       "      <td>222.0</td>\n",
       "      <td>100</td>\n",
       "      <td>Free</td>\n",
       "      <td>0</td>\n",
       "      <td>Everyone</td>\n",
       "      <td>Education</td>\n",
       "      <td>6-Nov-16</td>\n",
       "      <td>NaN</td>\n",
       "      <td>1.6 and up</td>\n",
       "    </tr>\n",
       "    <tr>\n",
       "      <th>7333</th>\n",
       "      <td>Dots puzzle</td>\n",
       "      <td>FAMILY</td>\n",
       "      <td>4.0</td>\n",
       "      <td>179</td>\n",
       "      <td>14000.0</td>\n",
       "      <td>50000</td>\n",
       "      <td>Paid</td>\n",
       "      <td>0.99</td>\n",
       "      <td>Everyone</td>\n",
       "      <td>Puzzle</td>\n",
       "      <td>18-Apr-18</td>\n",
       "      <td>NaN</td>\n",
       "      <td>4.0 and up</td>\n",
       "    </tr>\n",
       "    <tr>\n",
       "      <th>7407</th>\n",
       "      <td>Calculate My IQ</td>\n",
       "      <td>FAMILY</td>\n",
       "      <td>0</td>\n",
       "      <td>44</td>\n",
       "      <td>7200.0</td>\n",
       "      <td>10000</td>\n",
       "      <td>Free</td>\n",
       "      <td>0</td>\n",
       "      <td>Everyone</td>\n",
       "      <td>Entertainment</td>\n",
       "      <td>3-Apr-17</td>\n",
       "      <td>NaN</td>\n",
       "      <td>2.3 and up</td>\n",
       "    </tr>\n",
       "    <tr>\n",
       "      <th>7730</th>\n",
       "      <td>UFO-CQ</td>\n",
       "      <td>TOOLS</td>\n",
       "      <td>0</td>\n",
       "      <td>1</td>\n",
       "      <td>237.0</td>\n",
       "      <td>10</td>\n",
       "      <td>Paid</td>\n",
       "      <td>0.99</td>\n",
       "      <td>Everyone</td>\n",
       "      <td>Tools</td>\n",
       "      <td>4-Jul-16</td>\n",
       "      <td>NaN</td>\n",
       "      <td>2.0 and up</td>\n",
       "    </tr>\n",
       "    <tr>\n",
       "      <th>10342</th>\n",
       "      <td>La Fe de Jesus</td>\n",
       "      <td>BOOKS_AND_REFERENCE</td>\n",
       "      <td>0</td>\n",
       "      <td>8</td>\n",
       "      <td>658.0</td>\n",
       "      <td>1000</td>\n",
       "      <td>Free</td>\n",
       "      <td>0</td>\n",
       "      <td>Everyone</td>\n",
       "      <td>Books &amp; Reference</td>\n",
       "      <td>31-Jan-17</td>\n",
       "      <td>NaN</td>\n",
       "      <td>3.0 and up</td>\n",
       "    </tr>\n",
       "  </tbody>\n",
       "</table>\n",
       "</div>"
      ],
      "text/plain": [
       "                                   App             Category Rating Reviews  \\\n",
       "15     Learn To Draw Kawaii Characters       ART_AND_DESIGN    3.2      55   \n",
       "1553              Market Update Helper   LIBRARIES_AND_DEMO    4.1   20145   \n",
       "6322            Virtual DJ Sound Mixer                TOOLS    4.2    4010   \n",
       "6803                         BT Master               FAMILY      0       0   \n",
       "7333                       Dots puzzle               FAMILY    4.0     179   \n",
       "7407                   Calculate My IQ               FAMILY      0      44   \n",
       "7730                            UFO-CQ                TOOLS      0       1   \n",
       "10342                   La Fe de Jesus  BOOKS_AND_REFERENCE      0       8   \n",
       "\n",
       "          Size Installs  Type Price Content Rating             Genres  \\\n",
       "15      2700.0     5000  Free     0       Everyone       Art & Design   \n",
       "1553      11.0  1000000  Free     0       Everyone   Libraries & Demo   \n",
       "6322    8700.0   500000  Free     0       Everyone              Tools   \n",
       "6803     222.0      100  Free     0       Everyone          Education   \n",
       "7333   14000.0    50000  Paid  0.99       Everyone             Puzzle   \n",
       "7407    7200.0    10000  Free     0       Everyone      Entertainment   \n",
       "7730     237.0       10  Paid  0.99       Everyone              Tools   \n",
       "10342    658.0     1000  Free     0       Everyone  Books & Reference   \n",
       "\n",
       "      Last Updated Current Ver Android Ver  \n",
       "15        6-Jun-18         NaN  4.2 and up  \n",
       "1553     12-Feb-13         NaN  1.5 and up  \n",
       "6322     10-May-17         NaN  4.0 and up  \n",
       "6803      6-Nov-16         NaN  1.6 and up  \n",
       "7333     18-Apr-18         NaN  4.0 and up  \n",
       "7407      3-Apr-17         NaN  2.3 and up  \n",
       "7730      4-Jul-16         NaN  2.0 and up  \n",
       "10342    31-Jan-17         NaN  3.0 and up  "
      ]
     },
     "execution_count": 36,
     "metadata": {},
     "output_type": "execute_result"
    }
   ],
   "source": [
    "file_data_frame[file_data_frame['Current Ver'].isna()]"
   ]
  },
  {
   "cell_type": "code",
   "execution_count": 37,
   "id": "2e811a44-b871-44eb-9203-60321aada2f0",
   "metadata": {},
   "outputs": [],
   "source": [
    "#we remove the null values in current version\n",
    "file_data_frame = file_data_frame.drop(file_data_frame[file_data_frame['Current Ver'].isnull()].index)\n"
   ]
  },
  {
   "cell_type": "code",
   "execution_count": 38,
   "id": "d36c4eca-c3b6-482f-b732-e0e3c72aea09",
   "metadata": {},
   "outputs": [
    {
     "data": {
      "text/plain": [
       "App               0\n",
       "Category          0\n",
       "Rating            0\n",
       "Reviews           0\n",
       "Size              0\n",
       "Installs          0\n",
       "Type              0\n",
       "Price             0\n",
       "Content Rating    0\n",
       "Genres            0\n",
       "Last Updated      0\n",
       "Current Ver       0\n",
       "Android Ver       2\n",
       "dtype: int64"
      ]
     },
     "execution_count": 38,
     "metadata": {},
     "output_type": "execute_result"
    }
   ],
   "source": [
    "file_data_frame.isnull().sum()"
   ]
  },
  {
   "cell_type": "code",
   "execution_count": 39,
   "id": "2246d80c-08ba-48ce-aac2-7fa1942d5292",
   "metadata": {},
   "outputs": [],
   "source": [
    "#The next step we drop the rows with value “Varies with data”\n",
    "file_data_frame = file_data_frame.drop(file_data_frame[file_data_frame['Current Ver']=='Varies with device'].index)"
   ]
  },
  {
   "cell_type": "code",
   "execution_count": 40,
   "id": "b71b2678-e547-4e8c-8835-a1ea2ff3ad17",
   "metadata": {},
   "outputs": [],
   "source": [
    "# Drop null values in `Andriod Ver` column\n",
    "final_data_frame=file_data_frame.dropna(subset=['Android Ver'])"
   ]
  },
  {
   "cell_type": "code",
   "execution_count": 41,
   "id": "2d81fe34-db9c-4d6a-a6b8-f2796dc3ff5b",
   "metadata": {},
   "outputs": [
    {
     "data": {
      "text/plain": [
       "App               0\n",
       "Category          0\n",
       "Rating            0\n",
       "Reviews           0\n",
       "Size              0\n",
       "Installs          0\n",
       "Type              0\n",
       "Price             0\n",
       "Content Rating    0\n",
       "Genres            0\n",
       "Last Updated      0\n",
       "Current Ver       0\n",
       "Android Ver       0\n",
       "dtype: int64"
      ]
     },
     "execution_count": 41,
     "metadata": {},
     "output_type": "execute_result"
    }
   ],
   "source": [
    "#Now our data are cleaned\n",
    "final_data_frame.isnull().sum()\n",
    "#Change Data types of column."
   ]
  },
  {
   "cell_type": "code",
   "execution_count": 42,
   "id": "25055a69-cbb8-41fd-8af9-d50a094837cc",
   "metadata": {},
   "outputs": [
    {
     "name": "stdout",
     "output_type": "stream",
     "text": [
      "<class 'pandas.core.frame.DataFrame'>\n",
      "Int64Index: 9046 entries, 0 to 10838\n",
      "Data columns (total 13 columns):\n",
      " #   Column          Non-Null Count  Dtype \n",
      "---  ------          --------------  ----- \n",
      " 0   App             9046 non-null   object\n",
      " 1   Category        9046 non-null   object\n",
      " 2   Rating          9046 non-null   object\n",
      " 3   Reviews         9046 non-null   object\n",
      " 4   Size            9046 non-null   object\n",
      " 5   Installs        9046 non-null   object\n",
      " 6   Type            9046 non-null   object\n",
      " 7   Price           9046 non-null   object\n",
      " 8   Content Rating  9046 non-null   object\n",
      " 9   Genres          9046 non-null   object\n",
      " 10  Last Updated    9046 non-null   object\n",
      " 11  Current Ver     9046 non-null   object\n",
      " 12  Android Ver     9046 non-null   object\n",
      "dtypes: object(13)\n",
      "memory usage: 989.4+ KB\n"
     ]
    }
   ],
   "source": [
    "final_data_frame.info()"
   ]
  },
  {
   "cell_type": "code",
   "execution_count": 43,
   "id": "9ab32323-ac26-4a5b-84b6-e4a44a8ed067",
   "metadata": {},
   "outputs": [
    {
     "data": {
      "text/plain": [
       "0          159\n",
       "1          967\n",
       "2        87510\n",
       "4          967\n",
       "5          167\n",
       "         ...  \n",
       "10834        7\n",
       "10835        0\n",
       "10836       38\n",
       "10837        4\n",
       "10838        3\n",
       "Name: Reviews, Length: 9046, dtype: object"
      ]
     },
     "execution_count": 43,
     "metadata": {},
     "output_type": "execute_result"
    }
   ],
   "source": [
    "final_data_frame.Reviews"
   ]
  },
  {
   "cell_type": "code",
   "execution_count": 44,
   "id": "01bed774-ca05-4223-af77-73b02c1804e5",
   "metadata": {},
   "outputs": [],
   "source": [
    "final_data_frame.Reviews=final_data_frame.Reviews.astype(float)"
   ]
  },
  {
   "cell_type": "code",
   "execution_count": 45,
   "id": "1331d70a-a7ef-4ec1-9e12-4ce5811684cb",
   "metadata": {},
   "outputs": [
    {
     "name": "stdout",
     "output_type": "stream",
     "text": [
      "<class 'pandas.core.frame.DataFrame'>\n",
      "Int64Index: 9046 entries, 0 to 10838\n",
      "Data columns (total 13 columns):\n",
      " #   Column          Non-Null Count  Dtype  \n",
      "---  ------          --------------  -----  \n",
      " 0   App             9046 non-null   object \n",
      " 1   Category        9046 non-null   object \n",
      " 2   Rating          9046 non-null   object \n",
      " 3   Reviews         9046 non-null   float64\n",
      " 4   Size            9046 non-null   object \n",
      " 5   Installs        9046 non-null   object \n",
      " 6   Type            9046 non-null   object \n",
      " 7   Price           9046 non-null   object \n",
      " 8   Content Rating  9046 non-null   object \n",
      " 9   Genres          9046 non-null   object \n",
      " 10  Last Updated    9046 non-null   object \n",
      " 11  Current Ver     9046 non-null   object \n",
      " 12  Android Ver     9046 non-null   object \n",
      "dtypes: float64(1), object(12)\n",
      "memory usage: 989.4+ KB\n"
     ]
    }
   ],
   "source": [
    "final_data_frame.info()"
   ]
  },
  {
   "cell_type": "code",
   "execution_count": 46,
   "id": "798a2256-3ee4-4a1f-add2-422f47d0b648",
   "metadata": {},
   "outputs": [
    {
     "data": {
      "text/html": [
       "<div>\n",
       "<style scoped>\n",
       "    .dataframe tbody tr th:only-of-type {\n",
       "        vertical-align: middle;\n",
       "    }\n",
       "\n",
       "    .dataframe tbody tr th {\n",
       "        vertical-align: top;\n",
       "    }\n",
       "\n",
       "    .dataframe thead th {\n",
       "        text-align: right;\n",
       "    }\n",
       "</style>\n",
       "<table border=\"1\" class=\"dataframe\">\n",
       "  <thead>\n",
       "    <tr style=\"text-align: right;\">\n",
       "      <th></th>\n",
       "      <th>App</th>\n",
       "      <th>Category</th>\n",
       "      <th>Rating</th>\n",
       "      <th>Reviews</th>\n",
       "      <th>Size</th>\n",
       "      <th>Installs</th>\n",
       "      <th>Type</th>\n",
       "      <th>Price</th>\n",
       "      <th>Content Rating</th>\n",
       "      <th>Genres</th>\n",
       "      <th>Last Updated</th>\n",
       "      <th>Current Ver</th>\n",
       "      <th>Android Ver</th>\n",
       "    </tr>\n",
       "  </thead>\n",
       "  <tbody>\n",
       "    <tr>\n",
       "      <th>0</th>\n",
       "      <td>Photo Editor &amp; Candy Camera &amp; Grid &amp; ScrapBook</td>\n",
       "      <td>ART_AND_DESIGN</td>\n",
       "      <td>4.1</td>\n",
       "      <td>159.0</td>\n",
       "      <td>19000.0</td>\n",
       "      <td>10000</td>\n",
       "      <td>Free</td>\n",
       "      <td>0</td>\n",
       "      <td>Everyone</td>\n",
       "      <td>Art &amp; Design</td>\n",
       "      <td>7-Jan-18</td>\n",
       "      <td>1.0.0</td>\n",
       "      <td>4.0.3 and up</td>\n",
       "    </tr>\n",
       "    <tr>\n",
       "      <th>1</th>\n",
       "      <td>Coloring book moana</td>\n",
       "      <td>ART_AND_DESIGN</td>\n",
       "      <td>3.9</td>\n",
       "      <td>967.0</td>\n",
       "      <td>14000.0</td>\n",
       "      <td>500000</td>\n",
       "      <td>Free</td>\n",
       "      <td>0</td>\n",
       "      <td>Everyone</td>\n",
       "      <td>Art &amp; Design;Pretend Play</td>\n",
       "      <td>15-Jan-18</td>\n",
       "      <td>2.0.0</td>\n",
       "      <td>4.0.3 and up</td>\n",
       "    </tr>\n",
       "    <tr>\n",
       "      <th>2</th>\n",
       "      <td>U Launcher Lite – FREE Live Cool Themes, Hide ...</td>\n",
       "      <td>ART_AND_DESIGN</td>\n",
       "      <td>4.7</td>\n",
       "      <td>87510.0</td>\n",
       "      <td>8700.0</td>\n",
       "      <td>5000000</td>\n",
       "      <td>Free</td>\n",
       "      <td>0</td>\n",
       "      <td>Everyone</td>\n",
       "      <td>Art &amp; Design</td>\n",
       "      <td>1-Aug-18</td>\n",
       "      <td>1.2.4</td>\n",
       "      <td>4.0.3 and up</td>\n",
       "    </tr>\n",
       "    <tr>\n",
       "      <th>4</th>\n",
       "      <td>Pixel Draw - Number Art Coloring Book</td>\n",
       "      <td>ART_AND_DESIGN</td>\n",
       "      <td>4.3</td>\n",
       "      <td>967.0</td>\n",
       "      <td>2800.0</td>\n",
       "      <td>100000</td>\n",
       "      <td>Free</td>\n",
       "      <td>0</td>\n",
       "      <td>Everyone</td>\n",
       "      <td>Art &amp; Design;Creativity</td>\n",
       "      <td>20-Jun-18</td>\n",
       "      <td>1.1</td>\n",
       "      <td>4.4 and up</td>\n",
       "    </tr>\n",
       "    <tr>\n",
       "      <th>5</th>\n",
       "      <td>Paper flowers instructions</td>\n",
       "      <td>ART_AND_DESIGN</td>\n",
       "      <td>4.4</td>\n",
       "      <td>167.0</td>\n",
       "      <td>5600.0</td>\n",
       "      <td>50000</td>\n",
       "      <td>Free</td>\n",
       "      <td>0</td>\n",
       "      <td>Everyone</td>\n",
       "      <td>Art &amp; Design</td>\n",
       "      <td>26-Mar-17</td>\n",
       "      <td>1</td>\n",
       "      <td>2.3 and up</td>\n",
       "    </tr>\n",
       "    <tr>\n",
       "      <th>...</th>\n",
       "      <td>...</td>\n",
       "      <td>...</td>\n",
       "      <td>...</td>\n",
       "      <td>...</td>\n",
       "      <td>...</td>\n",
       "      <td>...</td>\n",
       "      <td>...</td>\n",
       "      <td>...</td>\n",
       "      <td>...</td>\n",
       "      <td>...</td>\n",
       "      <td>...</td>\n",
       "      <td>...</td>\n",
       "      <td>...</td>\n",
       "    </tr>\n",
       "    <tr>\n",
       "      <th>10834</th>\n",
       "      <td>FR Calculator</td>\n",
       "      <td>FAMILY</td>\n",
       "      <td>4.0</td>\n",
       "      <td>7.0</td>\n",
       "      <td>2600.0</td>\n",
       "      <td>500</td>\n",
       "      <td>Free</td>\n",
       "      <td>0</td>\n",
       "      <td>Everyone</td>\n",
       "      <td>Education</td>\n",
       "      <td>18-Jun-17</td>\n",
       "      <td>1.0.0</td>\n",
       "      <td>4.1 and up</td>\n",
       "    </tr>\n",
       "    <tr>\n",
       "      <th>10835</th>\n",
       "      <td>FR Forms</td>\n",
       "      <td>BUSINESS</td>\n",
       "      <td>0</td>\n",
       "      <td>0.0</td>\n",
       "      <td>9600.0</td>\n",
       "      <td>10</td>\n",
       "      <td>Free</td>\n",
       "      <td>0</td>\n",
       "      <td>Everyone</td>\n",
       "      <td>Business</td>\n",
       "      <td>29-Sep-16</td>\n",
       "      <td>1.1.5</td>\n",
       "      <td>4.0 and up</td>\n",
       "    </tr>\n",
       "    <tr>\n",
       "      <th>10836</th>\n",
       "      <td>Sya9a Maroc - FR</td>\n",
       "      <td>FAMILY</td>\n",
       "      <td>4.5</td>\n",
       "      <td>38.0</td>\n",
       "      <td>53000.0</td>\n",
       "      <td>5000</td>\n",
       "      <td>Free</td>\n",
       "      <td>0</td>\n",
       "      <td>Everyone</td>\n",
       "      <td>Education</td>\n",
       "      <td>25-Jul-17</td>\n",
       "      <td>1.48</td>\n",
       "      <td>4.1 and up</td>\n",
       "    </tr>\n",
       "    <tr>\n",
       "      <th>10837</th>\n",
       "      <td>Fr. Mike Schmitz Audio Teachings</td>\n",
       "      <td>FAMILY</td>\n",
       "      <td>5.0</td>\n",
       "      <td>4.0</td>\n",
       "      <td>3600.0</td>\n",
       "      <td>100</td>\n",
       "      <td>Free</td>\n",
       "      <td>0</td>\n",
       "      <td>Everyone</td>\n",
       "      <td>Education</td>\n",
       "      <td>6-Jul-18</td>\n",
       "      <td>1</td>\n",
       "      <td>4.1 and up</td>\n",
       "    </tr>\n",
       "    <tr>\n",
       "      <th>10838</th>\n",
       "      <td>Parkinson Exercices FR</td>\n",
       "      <td>MEDICAL</td>\n",
       "      <td>0</td>\n",
       "      <td>3.0</td>\n",
       "      <td>9500.0</td>\n",
       "      <td>1000</td>\n",
       "      <td>Free</td>\n",
       "      <td>0</td>\n",
       "      <td>Everyone</td>\n",
       "      <td>Medical</td>\n",
       "      <td>20-Jan-17</td>\n",
       "      <td>1</td>\n",
       "      <td>2.2 and up</td>\n",
       "    </tr>\n",
       "  </tbody>\n",
       "</table>\n",
       "<p>9046 rows × 13 columns</p>\n",
       "</div>"
      ],
      "text/plain": [
       "                                                     App        Category  \\\n",
       "0         Photo Editor & Candy Camera & Grid & ScrapBook  ART_AND_DESIGN   \n",
       "1                                    Coloring book moana  ART_AND_DESIGN   \n",
       "2      U Launcher Lite – FREE Live Cool Themes, Hide ...  ART_AND_DESIGN   \n",
       "4                  Pixel Draw - Number Art Coloring Book  ART_AND_DESIGN   \n",
       "5                             Paper flowers instructions  ART_AND_DESIGN   \n",
       "...                                                  ...             ...   \n",
       "10834                                      FR Calculator          FAMILY   \n",
       "10835                                           FR Forms        BUSINESS   \n",
       "10836                                   Sya9a Maroc - FR          FAMILY   \n",
       "10837                   Fr. Mike Schmitz Audio Teachings          FAMILY   \n",
       "10838                             Parkinson Exercices FR         MEDICAL   \n",
       "\n",
       "      Rating  Reviews     Size Installs  Type Price Content Rating  \\\n",
       "0        4.1    159.0  19000.0    10000  Free     0       Everyone   \n",
       "1        3.9    967.0  14000.0   500000  Free     0       Everyone   \n",
       "2        4.7  87510.0   8700.0  5000000  Free     0       Everyone   \n",
       "4        4.3    967.0   2800.0   100000  Free     0       Everyone   \n",
       "5        4.4    167.0   5600.0    50000  Free     0       Everyone   \n",
       "...      ...      ...      ...      ...   ...   ...            ...   \n",
       "10834    4.0      7.0   2600.0      500  Free     0       Everyone   \n",
       "10835      0      0.0   9600.0       10  Free     0       Everyone   \n",
       "10836    4.5     38.0  53000.0     5000  Free     0       Everyone   \n",
       "10837    5.0      4.0   3600.0      100  Free     0       Everyone   \n",
       "10838      0      3.0   9500.0     1000  Free     0       Everyone   \n",
       "\n",
       "                          Genres Last Updated Current Ver   Android Ver  \n",
       "0                   Art & Design     7-Jan-18       1.0.0  4.0.3 and up  \n",
       "1      Art & Design;Pretend Play    15-Jan-18       2.0.0  4.0.3 and up  \n",
       "2                   Art & Design     1-Aug-18       1.2.4  4.0.3 and up  \n",
       "4        Art & Design;Creativity    20-Jun-18         1.1    4.4 and up  \n",
       "5                   Art & Design    26-Mar-17           1    2.3 and up  \n",
       "...                          ...          ...         ...           ...  \n",
       "10834                  Education    18-Jun-17       1.0.0    4.1 and up  \n",
       "10835                   Business    29-Sep-16       1.1.5    4.0 and up  \n",
       "10836                  Education    25-Jul-17        1.48    4.1 and up  \n",
       "10837                  Education     6-Jul-18           1    4.1 and up  \n",
       "10838                    Medical    20-Jan-17           1    2.2 and up  \n",
       "\n",
       "[9046 rows x 13 columns]"
      ]
     },
     "execution_count": 46,
     "metadata": {},
     "output_type": "execute_result"
    }
   ],
   "source": [
    "final_data_frame"
   ]
  },
  {
   "cell_type": "code",
   "execution_count": 47,
   "id": "b36049d9-9609-400f-887b-90cd6c4e630f",
   "metadata": {},
   "outputs": [],
   "source": [
    "final_data_frame['Rating']=final_data_frame['Rating'].astype(float)"
   ]
  },
  {
   "cell_type": "code",
   "execution_count": 48,
   "id": "12661386-1965-4fd9-94ef-9295fee1d793",
   "metadata": {},
   "outputs": [],
   "source": [
    "final_data_frame['Size']=pd.to_numeric(final_data_frame['Size'])"
   ]
  },
  {
   "cell_type": "code",
   "execution_count": 49,
   "id": "cc5e496a-32e0-4984-b33e-5881ae18e435",
   "metadata": {},
   "outputs": [
    {
     "name": "stdout",
     "output_type": "stream",
     "text": [
      "<class 'pandas.core.frame.DataFrame'>\n",
      "Int64Index: 9046 entries, 0 to 10838\n",
      "Data columns (total 13 columns):\n",
      " #   Column          Non-Null Count  Dtype  \n",
      "---  ------          --------------  -----  \n",
      " 0   App             9046 non-null   object \n",
      " 1   Category        9046 non-null   object \n",
      " 2   Rating          9046 non-null   float64\n",
      " 3   Reviews         9046 non-null   float64\n",
      " 4   Size            9046 non-null   float64\n",
      " 5   Installs        9046 non-null   object \n",
      " 6   Type            9046 non-null   object \n",
      " 7   Price           9046 non-null   object \n",
      " 8   Content Rating  9046 non-null   object \n",
      " 9   Genres          9046 non-null   object \n",
      " 10  Last Updated    9046 non-null   object \n",
      " 11  Current Ver     9046 non-null   object \n",
      " 12  Android Ver     9046 non-null   object \n",
      "dtypes: float64(3), object(10)\n",
      "memory usage: 989.4+ KB\n"
     ]
    }
   ],
   "source": [
    "final_data_frame.info()"
   ]
  },
  {
   "cell_type": "code",
   "execution_count": 50,
   "id": "28c941c3-09a1-4d62-94ae-fcca4b410807",
   "metadata": {},
   "outputs": [],
   "source": [
    "final_data_frame['Price']=final_data_frame['Price'].astype(float)"
   ]
  },
  {
   "cell_type": "code",
   "execution_count": 51,
   "id": "71bce753-7074-4056-94c8-862271964968",
   "metadata": {},
   "outputs": [],
   "source": [
    "final_data_frame.to_csv('GooglePlayStore_cleaned_data.csv',index=False)"
   ]
  }
 ],
 "metadata": {
  "kernelspec": {
   "display_name": "Python 3 (ipykernel)",
   "language": "python",
   "name": "python3"
  },
  "language_info": {
   "codemirror_mode": {
    "name": "ipython",
    "version": 3
   },
   "file_extension": ".py",
   "mimetype": "text/x-python",
   "name": "python",
   "nbconvert_exporter": "python",
   "pygments_lexer": "ipython3",
   "version": "3.10.9"
  }
 },
 "nbformat": 4,
 "nbformat_minor": 5
}
